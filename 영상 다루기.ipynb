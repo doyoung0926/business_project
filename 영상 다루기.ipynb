{
 "cells": [
  {
   "cell_type": "code",
   "execution_count": 2,
   "metadata": {},
   "outputs": [],
   "source": [
    "# 영상 다루기\n",
    "\n",
    "# Goal\n",
    "\n",
    "# 동영상을 읽고, 보여주고, 저장할 수 있다.\n",
    "# 관련 함수인 cv2.VideoCapture(), cv2.VideoWirter()에 대해 알 수 있다."
   ]
  },
  {
   "cell_type": "code",
   "execution_count": 3,
   "metadata": {},
   "outputs": [],
   "source": [
    "# Camera로 부터 영상 재생\n",
    "\n",
    "# Camera로 부터 영상을 읽어, 화면에 보여주기 위해서 아래와 같은 순서로 진행을 함\n",
    "\n",
    "# VideoCature Object를 생성함. 변수로는 camera device index나 동영상 파일명을 넘겨준다. 일반적으로 0이면 Camera와 연결이 됨\n",
    "# Loop를 돌면서 frame을 읽어 들임\n",
    "# 읽은 frame에 대해서 변환작업을 수행한 후, 화면에 보여줌\n",
    "# 영상 재생이 끝나면, VideoCature Object를 release하고 window를 닫는다.\n",
    "\n",
    "# 아래 예제는 동영상을 읽어 grayscale로 변환 후 재생하는 예제이다"
   ]
  },
  {
   "cell_type": "code",
   "execution_count": 6,
   "metadata": {},
   "outputs": [
    {
     "name": "stdout",
     "output_type": "stream",
     "text": [
      "width: 0, height: 1\n"
     ]
    }
   ],
   "source": [
    "# sample code\n",
    "\n",
    "import cv2\n",
    "\n",
    "# cap 이 정상적으로 open이 되었는지 확인하기 위해서 cap.isOpen() 으로 확인가능\n",
    "cap = cv2.VideoCapture(0)\n",
    "\n",
    "# cap.get(prodId)/cap.set(propId, value)을 통해서 속성 변경이 가능\n",
    "# 3은 width, 4는 height\n",
    "\n",
    "print(f'width: {0}, height: {1}'.format(cap.get(3), cap.get(4)))\n",
    "cap.set(3, 320)\n",
    "cap.set(4, 240)\n",
    "\n",
    "while(True):\n",
    "    # ret : frame capture결과(boolean)\n",
    "    # frame : Capture한 frame\n",
    "    ret, frame = cap.read()\n",
    "\n",
    "    if (ret):\n",
    "        # image를 Grayscale로 Convert함.\n",
    "        gray = cv2.cvtColor(frame, cv2.COLOR_BGR2GRAY)\n",
    "\n",
    "        cv2.imshow('frame', gray)\n",
    "        if cv2.waitKey(1) & 0xFF == ord('q'):\n",
    "            break\n",
    "    \n",
    "cap.release()\n",
    "cv2.destroyAllWindows()"
   ]
  },
  {
   "cell_type": "code",
   "execution_count": 7,
   "metadata": {},
   "outputs": [],
   "source": [
    "# File로 부터 영상 재생\n",
    "\n",
    "# File로 부터 동영상 재생도 Camera에서 영상 재생과 동일하다"
   ]
  },
  {
   "cell_type": "code",
   "execution_count": 8,
   "metadata": {},
   "outputs": [],
   "source": [
    "# Sample Code\n",
    "\n",
    "import cv2\n",
    "\n",
    "cap = cv2.VideoCapture(0)\n",
    "\n",
    "while (cap.isOpened()):\n",
    "    ret, frame = cap.read()\n",
    "    gray = cv2.cvtColor(frame, cv2.COLOR_BGR2GRAY)\n",
    "    cv2.imshow('frame', gray)\n",
    "\n",
    "    if cv2.waitKey(1) & 0xFF == ord('q'):\n",
    "        break\n",
    "\n",
    "cap.release()\n",
    "cv2.destroyAllWindows()"
   ]
  },
  {
   "cell_type": "code",
   "execution_count": 9,
   "metadata": {},
   "outputs": [],
   "source": [
    "# Note\n",
    "\n",
    "# 동영상 재생시에는 해당 동영상의 Codec이 설치되어 있어야 한다."
   ]
  },
  {
   "cell_type": "code",
   "execution_count": 10,
   "metadata": {},
   "outputs": [],
   "source": [
    "# 영상 저장\n",
    "\n",
    "# 영상을 저장하기 위해서는 cv2.VideoWriter Object를 생성해야 한다.\n",
    "\n",
    "# cv2.VideoWriter(outputFile, fourcc, frame, size)\n",
    "# 영상을 저장하기 위한 Object\n",
    "\n",
    "# Parameters:\n",
    "\n",
    "# outputFile(str) - 저장될 파일명\n",
    "# fourcc - Codec 정보.\n",
    "# cv2.VideoWriter_fourcc()\n",
    "# frame(float) - 초당 저장될 frame\n",
    "# size(list) - 저장될 사이즈(ex; 640, 480)"
   ]
  },
  {
   "cell_type": "code",
   "execution_count": 11,
   "metadata": {},
   "outputs": [],
   "source": [
    "# fourcc정보는 cv2.VideoWriter_fourcc('M','J','P','G')\n",
    "# 또는 cv2.VideoWriter_fourcc(*'MJPG')와 같이 표현할 수 있다.\n",
    "# 각 OS마다 지원하는 codec 다릅니다.\n",
    "# (Windows는 DIVX)"
   ]
  },
  {
   "cell_type": "code",
   "execution_count": 19,
   "metadata": {},
   "outputs": [],
   "source": [
    "# sample code     # 왜 안돼?\n",
    "\n",
    "import cv2\n",
    "\n",
    "cap = cv2.VideoCapture(0)\n",
    "\n",
    "fourcc = cv2.VideoWriter_fourcc(*'DIVX')\n",
    "out = cv2.VideoWriter('outpur.avi', fourcc, 25.0, (640,480))\n",
    "\n",
    "while (cap.isOpened()):\n",
    "    ret, frame = cap.read()\n",
    "\n",
    "    if ret:\n",
    "        # 이미지 반전, 0:상하, 1:좌우\n",
    "        frame = cv2.flip(frame, 0)\n",
    "\n",
    "        out.write(frame)\n",
    "\n",
    "        cv2.imshow('frame', frame)\n",
    "\n",
    "        if cv2.waitKey(0) & 0xFF == ord('q'):\n",
    "            break\n",
    "    else:\n",
    "        break\n",
    "\n",
    "cap.release()\n",
    "out.release()\n",
    "cv2.destroyAllWindows()"
   ]
  },
  {
   "cell_type": "code",
   "execution_count": 22,
   "metadata": {},
   "outputs": [],
   "source": []
  },
  {
   "cell_type": "code",
   "execution_count": null,
   "metadata": {},
   "outputs": [],
   "source": []
  }
 ],
 "metadata": {
  "kernelspec": {
   "display_name": "Python 3.9.0 ('test_face')",
   "language": "python",
   "name": "python3"
  },
  "language_info": {
   "codemirror_mode": {
    "name": "ipython",
    "version": 3
   },
   "file_extension": ".py",
   "mimetype": "text/x-python",
   "name": "python",
   "nbconvert_exporter": "python",
   "pygments_lexer": "ipython3",
   "version": "3.9.0"
  },
  "orig_nbformat": 4,
  "vscode": {
   "interpreter": {
    "hash": "2ab66bd0d8a1700911031f6325c52faf68d70a959396b95b1055d91603f095e5"
   }
  }
 },
 "nbformat": 4,
 "nbformat_minor": 2
}
