{
 "cells": [
  {
   "cell_type": "code",
   "execution_count": 1,
   "metadata": {},
   "outputs": [],
   "source": [
    "# 도형 그리기\n",
    "\n",
    "# Goal\n",
    "\n",
    "# 다양한 모양의 도형을 그릴 수 있다.\n",
    "# cv2.line(), cv2.circle(), cv2.rectangle(), cv2.putText() 사용법을 알 수 있다."
   ]
  },
  {
   "cell_type": "code",
   "execution_count": 2,
   "metadata": {},
   "outputs": [],
   "source": [
    "# 도형그리기는 동영상이나 이미지에서 Match가 되는 영역을 찾은 후에 \n",
    "# 사용자가 인식하기 쉽게 표시하는 목적으로 사용됨"
   ]
  },
  {
   "cell_type": "code",
   "execution_count": 3,
   "metadata": {},
   "outputs": [],
   "source": [
    "# Line 그리기\n",
    "\n",
    "# Start와 End 점을 연결하여 직선을 그림\n",
    "\n",
    "# cv2.line(img, start, end, color, thickness)\n",
    "\n",
    "# Parameters:\n",
    "# img - 그림을 그릴 이미지 파일\n",
    "# start - 시작 좌표(ex; (0,0))\n",
    "# end - 종료 좌표(ex; (500,500))\n",
    "# color - BGR형태의 Color(ex;(255,0,0) -> Blue)\n",
    "# thickness(int) - 선의 두께.pixel"
   ]
  },
  {
   "cell_type": "code",
   "execution_count": 17,
   "metadata": {},
   "outputs": [],
   "source": [
    "# sample code\n",
    "\n",
    "import numpy as np\n",
    "import cv2\n",
    "\n",
    "# 모두 0으로 되어 있는 빈 Canvas(검정색)\n",
    "img = np.zeros((512,512,3), np.uint8)\n",
    "img = cv2.line(img, (0,0),(511,511),(255,0,0),5)\n",
    "\n",
    "cv2.imshow('image', img)\n",
    "cv2.waitKey(0)\n",
    "cv2.destroyAllWindows()"
   ]
  },
  {
   "cell_type": "code",
   "execution_count": 18,
   "metadata": {},
   "outputs": [],
   "source": [
    "# 사각형 그리기\n",
    "\n",
    "# top-left corner와 bottom-right corner점을 연결하는 사각형을 그림\n",
    "\n",
    "# cv2.rectangle(img, start, end, color, thickness)\n",
    "\n",
    "# Parameters:\n",
    "# img - 그림을 그릴 이미지\n",
    "# start - 시작 좌표(ex; (0,0))\n",
    "# end - 종료 좌표(ex; (500,500))\n",
    "# color - BGR형태의 Color(ex; (255,0,0) -> Blue)\n",
    "# thickness(int) - 선의 두께.pixel"
   ]
  },
  {
   "cell_type": "code",
   "execution_count": 19,
   "metadata": {},
   "outputs": [],
   "source": [
    "# sample code\n",
    "import cv2\n",
    "\n",
    "\n",
    "img = cv2.rectangle(img, (384,0),(510,128),(0,255,0),3)\n",
    "\n",
    "cv2.imshow('image', img)\n",
    "cv2.waitKey(0)\n",
    "cv2.destroyAllWindows()"
   ]
  },
  {
   "cell_type": "code",
   "execution_count": 20,
   "metadata": {},
   "outputs": [],
   "source": [
    "# 원 그리기\n",
    "\n",
    "# cv2.circle(img, center, radian, color, thickness)\n",
    "\n",
    "# Parameters:\n",
    "# img - 그림을 그릴 이미지\n",
    "# center - 원의 중심 좌표(x, y)\n",
    "# radian - 반지름\n",
    "# color - BGR형태의 Color\n",
    "# thickness - 선의 두께, -1 이면 원 안쪽을 채움"
   ]
  },
  {
   "cell_type": "code",
   "execution_count": 21,
   "metadata": {},
   "outputs": [],
   "source": [
    "# sample code\n",
    "\n",
    "img = cv2.circle(img, (447,63),63,(0,0,255),-1)\n",
    "\n",
    "cv2.imshow('image', img)\n",
    "cv2.waitKey(0)\n",
    "cv2.destroyAllWindows()"
   ]
  },
  {
   "cell_type": "code",
   "execution_count": 22,
   "metadata": {},
   "outputs": [],
   "source": [
    "# 타원 그리기\n",
    "\n",
    "# cv2.ellipse(img, center, axes, angle, startAngle, endAngle, color[, thickness[, lineType[, shift]]]) -> img\n",
    "\n",
    "# Parameters:\n",
    "# img - image\n",
    "# center - 타원의 중심\n",
    "# axes - 중심에서 가장 큰 거리와 작은 거리\n",
    "# angle - 타원의 기울기 각\n",
    "# startAngle - 타원의 시작 각도\n",
    "# endAngle - 타원이 끝나는 각도\n",
    "# color - 타원의 색\n",
    "# thickness - 선 두께 -1이면 안쪽을 채움"
   ]
  },
  {
   "cell_type": "code",
   "execution_count": 26,
   "metadata": {},
   "outputs": [],
   "source": [
    "# sample code\n",
    "\n",
    "import cv2\n",
    "\n",
    "img = cv2.ellipse(img, (256,256),(100,50),0,0,180,(0,255,0),-1)\n",
    "\n",
    "cv2.imshow('image', img)\n",
    "cv2.waitKey(0)\n",
    "cv2.destroyAllWindows()"
   ]
  },
  {
   "cell_type": "code",
   "execution_count": 27,
   "metadata": {},
   "outputs": [],
   "source": [
    "# polygon 그리기\n",
    "\n",
    "# cv2.polylines(img, pts, isClosed, color, thickness)\n",
    "\n",
    "# Parameters:\n",
    "# img - img\n",
    "# pts(array) - 연결할 꼭지점 좌표\n",
    "# isClosed - 닫힌 도형 여부\n",
    "# color - Color\n",
    "# thickness - 선 두께"
   ]
  },
  {
   "cell_type": "code",
   "execution_count": 29,
   "metadata": {},
   "outputs": [],
   "source": [
    "# sample code\n",
    "\n",
    "import numpy as np\n",
    "\n",
    "pts = np.array([[10,5],[20,30],[70,20],[50,10]], np.int32)  # 각 꼭지점은 2차원 행렬로 선언\n",
    "# 이미지에 표현하기 위해 3차원 행렬로 변환. 변환 이전과 이후의 행렬 갯수는 동일해야 함\n",
    "# -1은 원본에 해당하는 값을 그대로 유지.\n",
    "pts = pts.reshape((-1, 1, 2))\n",
    "img = cv2.polylines(img, [pts], True, (0,255,255))\n",
    "\n",
    "cv2.imshow('image', img)\n",
    "cv2.waitKey(0)\n",
    "cv2.destroyAllWindows()"
   ]
  },
  {
   "cell_type": "code",
   "execution_count": 30,
   "metadata": {},
   "outputs": [],
   "source": [
    "# 이미지에 Text 추가\n",
    "\n",
    "# cv2.putText(img, text, org, font, fontScale, color)\n",
    "\n",
    "# Parameters:\n",
    "# img - image\n",
    "# text - 표시할 문자열\n",
    "# org - 문자열이 표시될 위치. 문자열의 bottom-left corner점\n",
    "# font - font type. CV2.FONT_XXX\n",
    "# fontScale - Font Size\n",
    "# color - font color"
   ]
  },
  {
   "cell_type": "code",
   "execution_count": 32,
   "metadata": {},
   "outputs": [],
   "source": [
    "# sample code\n",
    "\n",
    "img = cv2.putText(img, 'Opencv', (10,500),  cv2.FONT_HERSHEY_SIMPLEX, 4, (255,255,255), 2)\n",
    "\n",
    "cv2.imshow('image', img)\n",
    "cv2.waitKey(0)\n",
    "cv2.destroyAllWindows()"
   ]
  },
  {
   "cell_type": "code",
   "execution_count": null,
   "metadata": {},
   "outputs": [],
   "source": []
  }
 ],
 "metadata": {
  "kernelspec": {
   "display_name": "Python 3.9.0 ('test_face')",
   "language": "python",
   "name": "python3"
  },
  "language_info": {
   "codemirror_mode": {
    "name": "ipython",
    "version": 3
   },
   "file_extension": ".py",
   "mimetype": "text/x-python",
   "name": "python",
   "nbconvert_exporter": "python",
   "pygments_lexer": "ipython3",
   "version": "3.9.0"
  },
  "orig_nbformat": 4,
  "vscode": {
   "interpreter": {
    "hash": "2ab66bd0d8a1700911031f6325c52faf68d70a959396b95b1055d91603f095e5"
   }
  }
 },
 "nbformat": 4,
 "nbformat_minor": 2
}
