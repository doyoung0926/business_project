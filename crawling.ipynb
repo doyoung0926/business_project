{
 "cells": [
  {
   "cell_type": "code",
   "execution_count": 10,
   "metadata": {},
   "outputs": [
    {
     "name": "stderr",
     "output_type": "stream",
     "text": [
      "C:\\Users\\USER\\AppData\\Local\\Temp\\ipykernel_1644\\2858503394.py:6: DeprecationWarning: executable_path has been deprecated, please pass in a Service object\n",
      "  driver = webdriver.Chrome('C:/Users/User/Desktop/chromedriver')\n"
     ]
    }
   ],
   "source": [
    "from selenium import webdriver\n",
    "from bs4 import BeautifulSoup\n",
    "import pandas as pd\n",
    "\n",
    "driver = webdriver.Chrome('C:/Users/User/Desktop/chromedriver')\n",
    "\n",
    "# -------------------------------------------------------------\n",
    "# 기    능 : 해당 연도(years) 해당 검색어(search) 관련 기사 제목, 내용, 날짜 추출 함수\n",
    "# 함 수 명 : crawling\n",
    "# 파라미터 : search, years\n",
    "# 반 환 값 : 없음\n",
    "# -------------------------------------------------------------\n",
    "\n",
    "\n",
    "\n",
    "def crawling(search, years):\n",
    "\n",
    "    a=[]  # 제목 담을 리스트\n",
    "    b=[]  # 내용 담을 리스트\n",
    "    c=[]  # 날짜 딤을 리스트\n",
    "\n",
    "\n",
    "    for page in range(1, 51):\n",
    "        driver.get(f'https://www.yna.co.kr/search/index?query={search}&ctype=A&sort=weight&scope=title&from={years}0101&to={years}1231&period=diy&page_no={page}')\n",
    "\n",
    "\n",
    "        html=driver.page_source\n",
    "        soup=BeautifulSoup(html, 'html.parser')\n",
    "\n",
    "        div = soup.find('div',{'class':'cts_atclst'})\n",
    "        for i in div.find_all('li'):\n",
    "            a.append(i.find('span',{'class':'tt2'}).text)  # 제목\n",
    "            b.append(i.find('span',{'class':'cts'}).text)  # 내용\n",
    "            c.append(i.find('span',{'class':'pbdt'}).text.split()[0])  # 날짜\n",
    "\n",
    "        if soup.find('span',{'class':'tt2'}) == None: break  # 페이지에 기사 제목 없으면 break\n",
    "\n",
    "\n",
    "    df = pd.DataFrame({'제목':a,'내용':b,'기간':c})\n",
    "    df.to_csv(f'./data/{search}_{years}.csv', index=False)\n",
    "\n",
    "\n",
    "crawling('CCTV',2012)  # crawling('검색어가 포함된 뉴스', '해당연도') 함수 호출"
   ]
  },
  {
   "cell_type": "code",
   "execution_count": 15,
   "metadata": {},
   "outputs": [
    {
     "ename": "NoSuchWindowException",
     "evalue": "Message: no such window: target window already closed\nfrom unknown error: web view not found\n  (Session info: chrome=107.0.5304.106)\nStacktrace:\nBacktrace:\n\tOrdinal0 [0x00941ED3+2236115]\n\tOrdinal0 [0x008D92F1+1807089]\n\tOrdinal0 [0x007E66FD+812797]\n\tOrdinal0 [0x007CDFFA+712698]\n\tOrdinal0 [0x0083506B+1134699]\n\tOrdinal0 [0x0084514A+1200458]\n\tOrdinal0 [0x008318A6+1120422]\n\tOrdinal0 [0x0080A73D+960317]\n\tOrdinal0 [0x0080B71F+964383]\n\tGetHandleVerifier [0x00BEE7E2+2743074]\n\tGetHandleVerifier [0x00BE08D4+2685972]\n\tGetHandleVerifier [0x009D2BAA+532202]\n\tGetHandleVerifier [0x009D1990+527568]\n\tOrdinal0 [0x008E080C+1837068]\n\tOrdinal0 [0x008E4CD8+1854680]\n\tOrdinal0 [0x008E4DC5+1854917]\n\tOrdinal0 [0x008EED64+1895780]\n\tBaseThreadInitThunk [0x75DFFA29+25]\n\tRtlGetAppContainerNamedObjectPath [0x77C17BBE+286]\n\tRtlGetAppContainerNamedObjectPath [0x77C17B8E+238]\n",
     "output_type": "error",
     "traceback": [
      "\u001b[1;31m---------------------------------------------------------------------------\u001b[0m",
      "\u001b[1;31mNoSuchWindowException\u001b[0m                     Traceback (most recent call last)",
      "Cell \u001b[1;32mIn [15], line 1\u001b[0m\n\u001b[1;32m----> 1\u001b[0m crawling(\u001b[39m'\u001b[39m\u001b[39mCCTV\u001b[39m\u001b[39m'\u001b[39m,\u001b[39m2013\u001b[39m)\n",
      "Cell \u001b[1;32mIn [10], line 25\u001b[0m, in \u001b[0;36mcrawling\u001b[1;34m(search, years)\u001b[0m\n\u001b[0;32m     21\u001b[0m c\u001b[39m=\u001b[39m[]  \u001b[39m# 날짜 딤을 리스트\u001b[39;00m\n\u001b[0;32m     24\u001b[0m \u001b[39mfor\u001b[39;00m page \u001b[39min\u001b[39;00m \u001b[39mrange\u001b[39m(\u001b[39m1\u001b[39m, \u001b[39m51\u001b[39m):\n\u001b[1;32m---> 25\u001b[0m     driver\u001b[39m.\u001b[39;49mget(\u001b[39mf\u001b[39;49m\u001b[39m'\u001b[39;49m\u001b[39mhttps://www.yna.co.kr/search/index?query=\u001b[39;49m\u001b[39m{\u001b[39;49;00msearch\u001b[39m}\u001b[39;49;00m\u001b[39m&ctype=A&sort=weight&scope=title&from=\u001b[39;49m\u001b[39m{\u001b[39;49;00myears\u001b[39m}\u001b[39;49;00m\u001b[39m0101&to=\u001b[39;49m\u001b[39m{\u001b[39;49;00myears\u001b[39m}\u001b[39;49;00m\u001b[39m1231&period=diy&page_no=\u001b[39;49m\u001b[39m{\u001b[39;49;00mpage\u001b[39m}\u001b[39;49;00m\u001b[39m'\u001b[39;49m)\n\u001b[0;32m     28\u001b[0m     html\u001b[39m=\u001b[39mdriver\u001b[39m.\u001b[39mpage_source\n\u001b[0;32m     29\u001b[0m     soup\u001b[39m=\u001b[39mBeautifulSoup(html, \u001b[39m'\u001b[39m\u001b[39mhtml.parser\u001b[39m\u001b[39m'\u001b[39m)\n",
      "File \u001b[1;32m~\\AppData\\Roaming\\Python\\Python39\\site-packages\\selenium\\webdriver\\remote\\webdriver.py:441\u001b[0m, in \u001b[0;36mWebDriver.get\u001b[1;34m(self, url)\u001b[0m\n\u001b[0;32m    437\u001b[0m \u001b[39mdef\u001b[39;00m \u001b[39mget\u001b[39m(\u001b[39mself\u001b[39m, url: \u001b[39mstr\u001b[39m) \u001b[39m-\u001b[39m\u001b[39m>\u001b[39m \u001b[39mNone\u001b[39;00m:\n\u001b[0;32m    438\u001b[0m     \u001b[39m\"\"\"\u001b[39;00m\n\u001b[0;32m    439\u001b[0m \u001b[39m    Loads a web page in the current browser session.\u001b[39;00m\n\u001b[0;32m    440\u001b[0m \u001b[39m    \"\"\"\u001b[39;00m\n\u001b[1;32m--> 441\u001b[0m     \u001b[39mself\u001b[39;49m\u001b[39m.\u001b[39;49mexecute(Command\u001b[39m.\u001b[39;49mGET, {\u001b[39m'\u001b[39;49m\u001b[39murl\u001b[39;49m\u001b[39m'\u001b[39;49m: url})\n",
      "File \u001b[1;32m~\\AppData\\Roaming\\Python\\Python39\\site-packages\\selenium\\webdriver\\remote\\webdriver.py:429\u001b[0m, in \u001b[0;36mWebDriver.execute\u001b[1;34m(self, driver_command, params)\u001b[0m\n\u001b[0;32m    427\u001b[0m response \u001b[39m=\u001b[39m \u001b[39mself\u001b[39m\u001b[39m.\u001b[39mcommand_executor\u001b[39m.\u001b[39mexecute(driver_command, params)\n\u001b[0;32m    428\u001b[0m \u001b[39mif\u001b[39;00m response:\n\u001b[1;32m--> 429\u001b[0m     \u001b[39mself\u001b[39;49m\u001b[39m.\u001b[39;49merror_handler\u001b[39m.\u001b[39;49mcheck_response(response)\n\u001b[0;32m    430\u001b[0m     response[\u001b[39m'\u001b[39m\u001b[39mvalue\u001b[39m\u001b[39m'\u001b[39m] \u001b[39m=\u001b[39m \u001b[39mself\u001b[39m\u001b[39m.\u001b[39m_unwrap_value(\n\u001b[0;32m    431\u001b[0m         response\u001b[39m.\u001b[39mget(\u001b[39m'\u001b[39m\u001b[39mvalue\u001b[39m\u001b[39m'\u001b[39m, \u001b[39mNone\u001b[39;00m))\n\u001b[0;32m    432\u001b[0m     \u001b[39mreturn\u001b[39;00m response\n",
      "File \u001b[1;32m~\\AppData\\Roaming\\Python\\Python39\\site-packages\\selenium\\webdriver\\remote\\errorhandler.py:243\u001b[0m, in \u001b[0;36mErrorHandler.check_response\u001b[1;34m(self, response)\u001b[0m\n\u001b[0;32m    241\u001b[0m         alert_text \u001b[39m=\u001b[39m value[\u001b[39m'\u001b[39m\u001b[39malert\u001b[39m\u001b[39m'\u001b[39m]\u001b[39m.\u001b[39mget(\u001b[39m'\u001b[39m\u001b[39mtext\u001b[39m\u001b[39m'\u001b[39m)\n\u001b[0;32m    242\u001b[0m     \u001b[39mraise\u001b[39;00m exception_class(message, screen, stacktrace, alert_text)  \u001b[39m# type: ignore[call-arg]  # mypy is not smart enough here\u001b[39;00m\n\u001b[1;32m--> 243\u001b[0m \u001b[39mraise\u001b[39;00m exception_class(message, screen, stacktrace)\n",
      "\u001b[1;31mNoSuchWindowException\u001b[0m: Message: no such window: target window already closed\nfrom unknown error: web view not found\n  (Session info: chrome=107.0.5304.106)\nStacktrace:\nBacktrace:\n\tOrdinal0 [0x00941ED3+2236115]\n\tOrdinal0 [0x008D92F1+1807089]\n\tOrdinal0 [0x007E66FD+812797]\n\tOrdinal0 [0x007CDFFA+712698]\n\tOrdinal0 [0x0083506B+1134699]\n\tOrdinal0 [0x0084514A+1200458]\n\tOrdinal0 [0x008318A6+1120422]\n\tOrdinal0 [0x0080A73D+960317]\n\tOrdinal0 [0x0080B71F+964383]\n\tGetHandleVerifier [0x00BEE7E2+2743074]\n\tGetHandleVerifier [0x00BE08D4+2685972]\n\tGetHandleVerifier [0x009D2BAA+532202]\n\tGetHandleVerifier [0x009D1990+527568]\n\tOrdinal0 [0x008E080C+1837068]\n\tOrdinal0 [0x008E4CD8+1854680]\n\tOrdinal0 [0x008E4DC5+1854917]\n\tOrdinal0 [0x008EED64+1895780]\n\tBaseThreadInitThunk [0x75DFFA29+25]\n\tRtlGetAppContainerNamedObjectPath [0x77C17BBE+286]\n\tRtlGetAppContainerNamedObjectPath [0x77C17B8E+238]\n"
     ]
    }
   ],
   "source": [
    "crawling('CCTV',2013)"
   ]
  },
  {
   "cell_type": "code",
   "execution_count": 14,
   "metadata": {},
   "outputs": [
    {
     "ename": "NoSuchWindowException",
     "evalue": "Message: no such window: target window already closed\nfrom unknown error: web view not found\n  (Session info: chrome=107.0.5304.106)\nStacktrace:\nBacktrace:\n\tOrdinal0 [0x00941ED3+2236115]\n\tOrdinal0 [0x008D92F1+1807089]\n\tOrdinal0 [0x007E66FD+812797]\n\tOrdinal0 [0x007CDFFA+712698]\n\tOrdinal0 [0x0083506B+1134699]\n\tOrdinal0 [0x0084514A+1200458]\n\tOrdinal0 [0x008318A6+1120422]\n\tOrdinal0 [0x0080A73D+960317]\n\tOrdinal0 [0x0080B71F+964383]\n\tGetHandleVerifier [0x00BEE7E2+2743074]\n\tGetHandleVerifier [0x00BE08D4+2685972]\n\tGetHandleVerifier [0x009D2BAA+532202]\n\tGetHandleVerifier [0x009D1990+527568]\n\tOrdinal0 [0x008E080C+1837068]\n\tOrdinal0 [0x008E4CD8+1854680]\n\tOrdinal0 [0x008E4DC5+1854917]\n\tOrdinal0 [0x008EED64+1895780]\n\tBaseThreadInitThunk [0x75DFFA29+25]\n\tRtlGetAppContainerNamedObjectPath [0x77C17BBE+286]\n\tRtlGetAppContainerNamedObjectPath [0x77C17B8E+238]\n",
     "output_type": "error",
     "traceback": [
      "\u001b[1;31m---------------------------------------------------------------------------\u001b[0m",
      "\u001b[1;31mNoSuchWindowException\u001b[0m                     Traceback (most recent call last)",
      "Cell \u001b[1;32mIn [14], line 1\u001b[0m\n\u001b[1;32m----> 1\u001b[0m crawling(\u001b[39m'\u001b[39m\u001b[39mCCTV\u001b[39m\u001b[39m'\u001b[39m,\u001b[39m2014\u001b[39m)\n",
      "Cell \u001b[1;32mIn [10], line 25\u001b[0m, in \u001b[0;36mcrawling\u001b[1;34m(search, years)\u001b[0m\n\u001b[0;32m     21\u001b[0m c\u001b[39m=\u001b[39m[]  \u001b[39m# 날짜 딤을 리스트\u001b[39;00m\n\u001b[0;32m     24\u001b[0m \u001b[39mfor\u001b[39;00m page \u001b[39min\u001b[39;00m \u001b[39mrange\u001b[39m(\u001b[39m1\u001b[39m, \u001b[39m51\u001b[39m):\n\u001b[1;32m---> 25\u001b[0m     driver\u001b[39m.\u001b[39;49mget(\u001b[39mf\u001b[39;49m\u001b[39m'\u001b[39;49m\u001b[39mhttps://www.yna.co.kr/search/index?query=\u001b[39;49m\u001b[39m{\u001b[39;49;00msearch\u001b[39m}\u001b[39;49;00m\u001b[39m&ctype=A&sort=weight&scope=title&from=\u001b[39;49m\u001b[39m{\u001b[39;49;00myears\u001b[39m}\u001b[39;49;00m\u001b[39m0101&to=\u001b[39;49m\u001b[39m{\u001b[39;49;00myears\u001b[39m}\u001b[39;49;00m\u001b[39m1231&period=diy&page_no=\u001b[39;49m\u001b[39m{\u001b[39;49;00mpage\u001b[39m}\u001b[39;49;00m\u001b[39m'\u001b[39;49m)\n\u001b[0;32m     28\u001b[0m     html\u001b[39m=\u001b[39mdriver\u001b[39m.\u001b[39mpage_source\n\u001b[0;32m     29\u001b[0m     soup\u001b[39m=\u001b[39mBeautifulSoup(html, \u001b[39m'\u001b[39m\u001b[39mhtml.parser\u001b[39m\u001b[39m'\u001b[39m)\n",
      "File \u001b[1;32m~\\AppData\\Roaming\\Python\\Python39\\site-packages\\selenium\\webdriver\\remote\\webdriver.py:441\u001b[0m, in \u001b[0;36mWebDriver.get\u001b[1;34m(self, url)\u001b[0m\n\u001b[0;32m    437\u001b[0m \u001b[39mdef\u001b[39;00m \u001b[39mget\u001b[39m(\u001b[39mself\u001b[39m, url: \u001b[39mstr\u001b[39m) \u001b[39m-\u001b[39m\u001b[39m>\u001b[39m \u001b[39mNone\u001b[39;00m:\n\u001b[0;32m    438\u001b[0m     \u001b[39m\"\"\"\u001b[39;00m\n\u001b[0;32m    439\u001b[0m \u001b[39m    Loads a web page in the current browser session.\u001b[39;00m\n\u001b[0;32m    440\u001b[0m \u001b[39m    \"\"\"\u001b[39;00m\n\u001b[1;32m--> 441\u001b[0m     \u001b[39mself\u001b[39;49m\u001b[39m.\u001b[39;49mexecute(Command\u001b[39m.\u001b[39;49mGET, {\u001b[39m'\u001b[39;49m\u001b[39murl\u001b[39;49m\u001b[39m'\u001b[39;49m: url})\n",
      "File \u001b[1;32m~\\AppData\\Roaming\\Python\\Python39\\site-packages\\selenium\\webdriver\\remote\\webdriver.py:429\u001b[0m, in \u001b[0;36mWebDriver.execute\u001b[1;34m(self, driver_command, params)\u001b[0m\n\u001b[0;32m    427\u001b[0m response \u001b[39m=\u001b[39m \u001b[39mself\u001b[39m\u001b[39m.\u001b[39mcommand_executor\u001b[39m.\u001b[39mexecute(driver_command, params)\n\u001b[0;32m    428\u001b[0m \u001b[39mif\u001b[39;00m response:\n\u001b[1;32m--> 429\u001b[0m     \u001b[39mself\u001b[39;49m\u001b[39m.\u001b[39;49merror_handler\u001b[39m.\u001b[39;49mcheck_response(response)\n\u001b[0;32m    430\u001b[0m     response[\u001b[39m'\u001b[39m\u001b[39mvalue\u001b[39m\u001b[39m'\u001b[39m] \u001b[39m=\u001b[39m \u001b[39mself\u001b[39m\u001b[39m.\u001b[39m_unwrap_value(\n\u001b[0;32m    431\u001b[0m         response\u001b[39m.\u001b[39mget(\u001b[39m'\u001b[39m\u001b[39mvalue\u001b[39m\u001b[39m'\u001b[39m, \u001b[39mNone\u001b[39;00m))\n\u001b[0;32m    432\u001b[0m     \u001b[39mreturn\u001b[39;00m response\n",
      "File \u001b[1;32m~\\AppData\\Roaming\\Python\\Python39\\site-packages\\selenium\\webdriver\\remote\\errorhandler.py:243\u001b[0m, in \u001b[0;36mErrorHandler.check_response\u001b[1;34m(self, response)\u001b[0m\n\u001b[0;32m    241\u001b[0m         alert_text \u001b[39m=\u001b[39m value[\u001b[39m'\u001b[39m\u001b[39malert\u001b[39m\u001b[39m'\u001b[39m]\u001b[39m.\u001b[39mget(\u001b[39m'\u001b[39m\u001b[39mtext\u001b[39m\u001b[39m'\u001b[39m)\n\u001b[0;32m    242\u001b[0m     \u001b[39mraise\u001b[39;00m exception_class(message, screen, stacktrace, alert_text)  \u001b[39m# type: ignore[call-arg]  # mypy is not smart enough here\u001b[39;00m\n\u001b[1;32m--> 243\u001b[0m \u001b[39mraise\u001b[39;00m exception_class(message, screen, stacktrace)\n",
      "\u001b[1;31mNoSuchWindowException\u001b[0m: Message: no such window: target window already closed\nfrom unknown error: web view not found\n  (Session info: chrome=107.0.5304.106)\nStacktrace:\nBacktrace:\n\tOrdinal0 [0x00941ED3+2236115]\n\tOrdinal0 [0x008D92F1+1807089]\n\tOrdinal0 [0x007E66FD+812797]\n\tOrdinal0 [0x007CDFFA+712698]\n\tOrdinal0 [0x0083506B+1134699]\n\tOrdinal0 [0x0084514A+1200458]\n\tOrdinal0 [0x008318A6+1120422]\n\tOrdinal0 [0x0080A73D+960317]\n\tOrdinal0 [0x0080B71F+964383]\n\tGetHandleVerifier [0x00BEE7E2+2743074]\n\tGetHandleVerifier [0x00BE08D4+2685972]\n\tGetHandleVerifier [0x009D2BAA+532202]\n\tGetHandleVerifier [0x009D1990+527568]\n\tOrdinal0 [0x008E080C+1837068]\n\tOrdinal0 [0x008E4CD8+1854680]\n\tOrdinal0 [0x008E4DC5+1854917]\n\tOrdinal0 [0x008EED64+1895780]\n\tBaseThreadInitThunk [0x75DFFA29+25]\n\tRtlGetAppContainerNamedObjectPath [0x77C17BBE+286]\n\tRtlGetAppContainerNamedObjectPath [0x77C17B8E+238]\n"
     ]
    }
   ],
   "source": [
    "crawling('CCTV',2014)"
   ]
  },
  {
   "cell_type": "code",
   "execution_count": 27,
   "metadata": {},
   "outputs": [],
   "source": [
    "crawling('CCTV',2015)"
   ]
  },
  {
   "cell_type": "code",
   "execution_count": 28,
   "metadata": {},
   "outputs": [],
   "source": [
    "crawling('CCTV',2016)"
   ]
  },
  {
   "cell_type": "code",
   "execution_count": 29,
   "metadata": {},
   "outputs": [],
   "source": [
    "crawling('CCTV',2017)"
   ]
  },
  {
   "cell_type": "code",
   "execution_count": 30,
   "metadata": {},
   "outputs": [],
   "source": [
    "crawling('CCTV',2018)"
   ]
  },
  {
   "cell_type": "code",
   "execution_count": 31,
   "metadata": {},
   "outputs": [],
   "source": [
    "crawling('CCTV',2019)"
   ]
  },
  {
   "cell_type": "code",
   "execution_count": 32,
   "metadata": {},
   "outputs": [],
   "source": [
    "crawling('CCTV',2020)"
   ]
  },
  {
   "cell_type": "code",
   "execution_count": 33,
   "metadata": {},
   "outputs": [],
   "source": [
    "crawling('CCTV',2021)"
   ]
  },
  {
   "cell_type": "code",
   "execution_count": 34,
   "metadata": {},
   "outputs": [],
   "source": [
    "crawling('CCTV',2022)"
   ]
  },
  {
   "cell_type": "code",
   "execution_count": 93,
   "metadata": {},
   "outputs": [
    {
     "data": {
      "text/html": [
       "<div>\n",
       "<style scoped>\n",
       "    .dataframe tbody tr th:only-of-type {\n",
       "        vertical-align: middle;\n",
       "    }\n",
       "\n",
       "    .dataframe tbody tr th {\n",
       "        vertical-align: top;\n",
       "    }\n",
       "\n",
       "    .dataframe thead th {\n",
       "        text-align: right;\n",
       "    }\n",
       "</style>\n",
       "<table border=\"1\" class=\"dataframe\">\n",
       "  <thead>\n",
       "    <tr style=\"text-align: right;\">\n",
       "      <th></th>\n",
       "      <th>제목</th>\n",
       "      <th>내용</th>\n",
       "      <th>기간</th>\n",
       "    </tr>\n",
       "  </thead>\n",
       "  <tbody>\n",
       "    <tr>\n",
       "      <th>0</th>\n",
       "      <td>LG전자, 中 CCTV와 전략적 제휴</td>\n",
       "      <td>... 이웅 기자 = LG전자가 중국 국영 방송사인 CCTV의 스포츠채널 'CCTV...</td>\n",
       "      <td>2012-12-28</td>\n",
       "    </tr>\n",
       "    <tr>\n",
       "      <th>1</th>\n",
       "      <td>행안부, 노원·관악구에 지능형 CCTV 시범 운영</td>\n",
       "      <td>...해 특정 행동을 인식하는 지능형 기술을 CCTV에 적용한 것을 말한다.\\n  ...</td>\n",
       "      <td>2012-12-24</td>\n",
       "    </tr>\n",
       "    <tr>\n",
       "      <th>2</th>\n",
       "      <td>\"중국 KFC, 금지약물 투여한 닭 사용\"&lt; CCTV&gt;</td>\n",
       "      <td>... 이상의 항생제를 투여해 키운 것으로 드러났다고 중국중앙TV방송(CCTV)가 ...</td>\n",
       "      <td>2012-12-19</td>\n",
       "    </tr>\n",
       "    <tr>\n",
       "      <th>3</th>\n",
       "      <td>부산 CCTV 도시안전망 구축…범죄 발생률↓</td>\n",
       "      <td>...산시가 범죄 없는 도시를 목표로 추진 중인 'CCTV 도시안전망 구축사업'이 ...</td>\n",
       "      <td>2012-12-18</td>\n",
       "    </tr>\n",
       "    <tr>\n",
       "      <th>4</th>\n",
       "      <td>中 간판 TV뉴스 방송사고…CCTV 첫 사과</td>\n",
       "      <td>... = 중국의 대표적 뉴스 프로그램인 중앙TV방송(CCTV)의 신원롄보(新聞聯播...</td>\n",
       "      <td>2012-12-10</td>\n",
       "    </tr>\n",
       "    <tr>\n",
       "      <th>...</th>\n",
       "      <td>...</td>\n",
       "      <td>...</td>\n",
       "      <td>...</td>\n",
       "    </tr>\n",
       "    <tr>\n",
       "      <th>2616</th>\n",
       "      <td>장례식장 패싸움 숨기려 CCTV 떼간 폭력조직원 1명 구속</td>\n",
       "      <td>증거인멸 혐의…장소에 있던 40여명 신원 파악해 조사중\\n\\n\\n\\n    (전주=...</td>\n",
       "      <td>2022-02-21</td>\n",
       "    </tr>\n",
       "    <tr>\n",
       "      <th>2617</th>\n",
       "      <td>알몸에 마스크만 쓰고 활보한 30대, CCTV 찍혀 사흘 만에 덜미</td>\n",
       "      <td>(시흥=연합뉴스) 김솔 기자 = 한밤중 알몸에 마스크만 쓰고 활보했던 30대 남성이...</td>\n",
       "      <td>2022-02-11</td>\n",
       "    </tr>\n",
       "    <tr>\n",
       "      <th>2618</th>\n",
       "      <td>군포시, 이륜차 관리시스템 구축…전용 CCTV로 법규위반 단속</td>\n",
       "      <td>... 오토바이의 소음을 측정해 교통상황판에 나타낸다.\\n    또 이륜차 교통법규...</td>\n",
       "      <td>2022-02-07</td>\n",
       "    </tr>\n",
       "    <tr>\n",
       "      <th>2619</th>\n",
       "      <td>오스템임플란트 피의자 가족 집 압수수색…회사 CCTV도 분석(종합)</td>\n",
       "      <td>(서울=연합뉴스) 홍규빈 기자 = 경찰은 10일 오스템임플란트 회삿돈 2천215억원...</td>\n",
       "      <td>2022-01-10</td>\n",
       "    </tr>\n",
       "    <tr>\n",
       "      <th>2620</th>\n",
       "      <td>[옥천소식] 향수호수길 CCTV·보안등 확충</td>\n",
       "      <td>...고 3일 밝혔다.\\n    \\n\\n    \\n    경찰서·소방서와 연계, 안...</td>\n",
       "      <td>2022-01-03</td>\n",
       "    </tr>\n",
       "  </tbody>\n",
       "</table>\n",
       "<p>2621 rows × 3 columns</p>\n",
       "</div>"
      ],
      "text/plain": [
       "                                         제목  \\\n",
       "0                      LG전자, 中 CCTV와 전략적 제휴   \n",
       "1               행안부, 노원·관악구에 지능형 CCTV 시범 운영   \n",
       "2            \"중국 KFC, 금지약물 투여한 닭 사용\"< CCTV>   \n",
       "3                  부산 CCTV 도시안전망 구축…범죄 발생률↓   \n",
       "4                  中 간판 TV뉴스 방송사고…CCTV 첫 사과   \n",
       "...                                     ...   \n",
       "2616       장례식장 패싸움 숨기려 CCTV 떼간 폭력조직원 1명 구속   \n",
       "2617  알몸에 마스크만 쓰고 활보한 30대, CCTV 찍혀 사흘 만에 덜미   \n",
       "2618     군포시, 이륜차 관리시스템 구축…전용 CCTV로 법규위반 단속   \n",
       "2619  오스템임플란트 피의자 가족 집 압수수색…회사 CCTV도 분석(종합)   \n",
       "2620               [옥천소식] 향수호수길 CCTV·보안등 확충   \n",
       "\n",
       "                                                     내용          기간  \n",
       "0     ... 이웅 기자 = LG전자가 중국 국영 방송사인 CCTV의 스포츠채널 'CCTV...  2012-12-28  \n",
       "1     ...해 특정 행동을 인식하는 지능형 기술을 CCTV에 적용한 것을 말한다.\\n  ...  2012-12-24  \n",
       "2     ... 이상의 항생제를 투여해 키운 것으로 드러났다고 중국중앙TV방송(CCTV)가 ...  2012-12-19  \n",
       "3     ...산시가 범죄 없는 도시를 목표로 추진 중인 'CCTV 도시안전망 구축사업'이 ...  2012-12-18  \n",
       "4     ... = 중국의 대표적 뉴스 프로그램인 중앙TV방송(CCTV)의 신원롄보(新聞聯播...  2012-12-10  \n",
       "...                                                 ...         ...  \n",
       "2616  증거인멸 혐의…장소에 있던 40여명 신원 파악해 조사중\\n\\n\\n\\n    (전주=...  2022-02-21  \n",
       "2617  (시흥=연합뉴스) 김솔 기자 = 한밤중 알몸에 마스크만 쓰고 활보했던 30대 남성이...  2022-02-11  \n",
       "2618  ... 오토바이의 소음을 측정해 교통상황판에 나타낸다.\\n    또 이륜차 교통법규...  2022-02-07  \n",
       "2619  (서울=연합뉴스) 홍규빈 기자 = 경찰은 10일 오스템임플란트 회삿돈 2천215억원...  2022-01-10  \n",
       "2620  ...고 3일 밝혔다.\\n    \\n\\n    \\n    경찰서·소방서와 연계, 안...  2022-01-03  \n",
       "\n",
       "[2621 rows x 3 columns]"
      ]
     },
     "execution_count": 93,
     "metadata": {},
     "output_type": "execute_result"
    }
   ],
   "source": [
    "# 파일 로딩\n",
    "df_list = []  # 연도별 기사 담을 리스트\n",
    "\n",
    "for i in range(2012, 2023):\n",
    "    df_list.append(pd.read_csv(f'CCTV_{i}.csv'))\n",
    "\n",
    "# 모든 연도 하나의 데이터프레임 병합\n",
    "df = pd.concat(df_list)\n",
    "df = df.reset_index(drop=True)\n",
    "df"
   ]
  },
  {
   "cell_type": "code",
   "execution_count": 96,
   "metadata": {},
   "outputs": [],
   "source": [
    "# 데이터 전처리\n",
    "import re\n",
    "\n",
    "for idx in df['내용'].index:\n",
    "    df['내용'][idx]= re.sub('[^\\w+]', ' ', df['내용'][idx])\n",
    "    df['제목'][idx]= re.sub('[^\\w+]', ' ', df['제목'][idx])\n",
    "    df['내용'][idx]= re.compile('[一-龥]+[一-龥]').sub(' ', df['내용'][idx])\n",
    "\n",
    "df.to_csv('CCTV기사.csv', index=False)"
   ]
  }
 ],
 "metadata": {
  "kernelspec": {
   "display_name": "Python 3.9.13 ('streamlit')",
   "language": "python",
   "name": "python3"
  },
  "language_info": {
   "codemirror_mode": {
    "name": "ipython",
    "version": 3
   },
   "file_extension": ".py",
   "mimetype": "text/x-python",
   "name": "python",
   "nbconvert_exporter": "python",
   "pygments_lexer": "ipython3",
   "version": "3.9.13"
  },
  "orig_nbformat": 4,
  "vscode": {
   "interpreter": {
    "hash": "18936f251c67fdd6ecdf5410826388c1f6b1d5ccb4ab5eae8e10081fbe22b3ad"
   }
  }
 },
 "nbformat": 4,
 "nbformat_minor": 2
}
