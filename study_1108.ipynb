{
 "cells": [
  {
   "cell_type": "code",
   "execution_count": 1,
   "metadata": {},
   "outputs": [
    {
     "name": "stderr",
     "output_type": "stream",
     "text": [
      "c:\\Users\\USER\\anaconda3\\envs\\pytorch38\\lib\\site-packages\\tqdm\\auto.py:22: TqdmWarning: IProgress not found. Please update jupyter and ipywidgets. See https://ipywidgets.readthedocs.io/en/stable/user_install.html\n",
      "  from .autonotebook import tqdm as notebook_tqdm\n"
     ]
    },
    {
     "ename": "NameError",
     "evalue": "name '__file__' is not defined",
     "output_type": "error",
     "traceback": [
      "\u001b[1;31m---------------------------------------------------------------------------\u001b[0m",
      "\u001b[1;31mNameError\u001b[0m                                 Traceback (most recent call last)",
      "\u001b[1;32mc:\\Users\\USER\\Desktop\\vs코드\\wkit_vs\\study\\study_1108.ipynb 셀 1\u001b[0m in \u001b[0;36m<cell line: 15>\u001b[1;34m()\u001b[0m\n\u001b[0;32m     <a href='vscode-notebook-cell:/c%3A/Users/USER/Desktop/vs%EC%BD%94%EB%93%9C/wkit_vs/study/study_1108.ipynb#W0sZmlsZQ%3D%3D?line=11'>12</a>\u001b[0m \u001b[39mfrom\u001b[39;00m \u001b[39mnumpy\u001b[39;00m \u001b[39mimport\u001b[39;00m random\n\u001b[0;32m     <a href='vscode-notebook-cell:/c%3A/Users/USER/Desktop/vs%EC%BD%94%EB%93%9C/wkit_vs/study/study_1108.ipynb#W0sZmlsZQ%3D%3D?line=12'>13</a>\u001b[0m \u001b[39mimport\u001b[39;00m \u001b[39mcopy\u001b[39;00m\n\u001b[1;32m---> <a href='vscode-notebook-cell:/c%3A/Users/USER/Desktop/vs%EC%BD%94%EB%93%9C/wkit_vs/study/study_1108.ipynb#W0sZmlsZQ%3D%3D?line=14'>15</a>\u001b[0m FILE \u001b[39m=\u001b[39m Path(\u001b[39m__file__\u001b[39;49m)\u001b[39m.\u001b[39mresolve()\n\u001b[0;32m     <a href='vscode-notebook-cell:/c%3A/Users/USER/Desktop/vs%EC%BD%94%EB%93%9C/wkit_vs/study/study_1108.ipynb#W0sZmlsZQ%3D%3D?line=15'>16</a>\u001b[0m ROOT \u001b[39m=\u001b[39m FILE\u001b[39m.\u001b[39mparents[\u001b[39m0\u001b[39m]  \u001b[39m# YOLOv5 root directory\u001b[39;00m\n\u001b[0;32m     <a href='vscode-notebook-cell:/c%3A/Users/USER/Desktop/vs%EC%BD%94%EB%93%9C/wkit_vs/study/study_1108.ipynb#W0sZmlsZQ%3D%3D?line=16'>17</a>\u001b[0m \u001b[39mif\u001b[39;00m \u001b[39mstr\u001b[39m(ROOT) \u001b[39mnot\u001b[39;00m \u001b[39min\u001b[39;00m sys\u001b[39m.\u001b[39mpath:\n",
      "\u001b[1;31mNameError\u001b[0m: name '__file__' is not defined"
     ]
    }
   ],
   "source": []
  },
  {
   "cell_type": "code",
   "execution_count": 4,
   "metadata": {},
   "outputs": [
    {
     "name": "stdout",
     "output_type": "stream",
     "text": [
      "WARNING: --img-size 275 must be multiple of max stride 32, updating to 288\n"
     ]
    }
   ],
   "source": [
    "from yolov5facedetector.face_detector import YoloDetector\n",
    "import numpy as np\n",
    "from PIL import Image\n",
    "import cv2\n",
    "model = YoloDetector(target_size=720,gpu=0,min_face=90)\n",
    "rgb_array_img = np.array(Image.open('../data/images.jpg')) # Will make RGB Numpy Array Image\n",
    "bboxes, confs, points = model.predict(rgb_array_img)\n",
    "im=cv2.imread('../data/images.jpg')\n",
    "# for i in range(len(bboxes[0])):\n",
    "#     print(i)\n",
    "#     for bbox in bboxes:\n",
    "#         # print(bbox)\n",
    "#         (startX, startY)=bbox[i][0], bbox[i][1]\n",
    "#         (endX, endY)=bbox[i][2], bbox[i][3]\n",
    "#         print('startX: ', startX)\n",
    "#         print('startY: ', startY)\n",
    "#         print('endX: ', endX)\n",
    "#         print('endY: ', endY)\n",
    "#         # draw rectangle over face\n",
    "#         cv2.rectangle(im, (startX, startY), (endX, endY), (0, 255, 0), 2)\n",
    "cv2.imshow('d',im)\n",
    "cv2.waitKey(0)\n",
    "cv2.destroyAllWindows()"
   ]
  },
  {
   "cell_type": "code",
   "execution_count": null,
   "metadata": {},
   "outputs": [],
   "source": []
  },
  {
   "cell_type": "code",
   "execution_count": null,
   "metadata": {},
   "outputs": [],
   "source": []
  }
 ],
 "metadata": {
  "kernelspec": {
   "display_name": "Python 3.8.13 ('pytorch38')",
   "language": "python",
   "name": "python3"
  },
  "language_info": {
   "codemirror_mode": {
    "name": "ipython",
    "version": 3
   },
   "file_extension": ".py",
   "mimetype": "text/x-python",
   "name": "python",
   "nbconvert_exporter": "python",
   "pygments_lexer": "ipython3",
   "version": "3.8.13"
  },
  "orig_nbformat": 4,
  "vscode": {
   "interpreter": {
    "hash": "e713db361fd0c0a151521921a307db5316dc01e9b741659f15d8bea985d071ea"
   }
  }
 },
 "nbformat": 4,
 "nbformat_minor": 2
}
