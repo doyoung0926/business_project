{
 "cells": [
  {
   "cell_type": "code",
   "execution_count": 1,
   "metadata": {},
   "outputs": [],
   "source": [
    "# Mouse로 그리기\n",
    "\n",
    "# Goal\n",
    "\n",
    "# Mouse Event의 적용 방법에 대해 알 수 있다.\n",
    "# cv2.setMouseCallback() 함수에 대해서 알 수 있다."
   ]
  },
  {
   "cell_type": "code",
   "execution_count": 2,
   "metadata": {},
   "outputs": [
    {
     "name": "stdout",
     "output_type": "stream",
     "text": [
      "['EVENT_FLAG_ALTKEY', 'EVENT_FLAG_CTRLKEY', 'EVENT_FLAG_LBUTTON', 'EVENT_FLAG_MBUTTON', 'EVENT_FLAG_RBUTTON', 'EVENT_FLAG_SHIFTKEY', 'EVENT_LBUTTONDBLCLK', 'EVENT_LBUTTONDOWN', 'EVENT_LBUTTONUP', 'EVENT_MBUTTONDBLCLK', 'EVENT_MBUTTONDOWN', 'EVENT_MBUTTONUP', 'EVENT_MOUSEHWHEEL', 'EVENT_MOUSEMOVE', 'EVENT_MOUSEWHEEL', 'EVENT_RBUTTONDBLCLK', 'EVENT_RBUTTONDOWN', 'EVENT_RBUTTONUP']\n"
     ]
    }
   ],
   "source": [
    "# 작동 방법\n",
    "# OpenCV에는 이미 Mouse Event의 종류에 대해서 사전 정의가 되어 있다.\n",
    "# 확인을 하기 위해서 Python Terminal에서 아래와 같이 입력해보기 바람\n",
    "\n",
    "import cv2\n",
    "events = [i for i in dir(cv2) if 'EVENT' in i]\n",
    "print(events)"
   ]
  },
  {
   "cell_type": "code",
   "execution_count": 3,
   "metadata": {},
   "outputs": [],
   "source": [
    "# 실행을 하면 다양한 Mouse Event의 종류를 알 수 있다.\n",
    "# 어떤 종류의 Event인지는 이름을 보면 쉽게 알 수 있다."
   ]
  },
  {
   "cell_type": "code",
   "execution_count": 4,
   "metadata": {},
   "outputs": [],
   "source": [
    "# Mouse Event를 확인하고 Callback을 호출하는 함수가 cv2.setMouseCallback()이다.\n",
    "\n",
    "# cv2.setMouseCallback(windowName, callback, param=None)\n",
    "\n",
    "# Parameters:\n",
    "# windowName - windowName\n",
    "# callback - callback함수. callback 함수에는 (event, x,y,flags,param)가 전달 됨\n",
    "# param - callback함수에 전달되는 Data"
   ]
  },
  {
   "cell_type": "code",
   "execution_count": 5,
   "metadata": {},
   "outputs": [],
   "source": [
    "# 간단한 Demo\n",
    "\n",
    "# 아래 Demo는 화면에 Double-Click을 하면 원이 그려지는 예제이다.\n",
    "import cv2\n",
    "import numpy as np\n",
    "\n",
    "# callback 함수\n",
    "def draw_circle(event, x, y, flags, param):\n",
    "    if event == cv2.EVENT_LBUTTONDBLCLK:\n",
    "        cv2.circle(img, (x,y), 100, (255,0,0),-1)\n",
    "\n",
    "# 빈 Image 생성\n",
    "img = np.zeros((512,512,3), np.uint8)\n",
    "cv2.namedWindow('image')\n",
    "cv2.setMouseCallback('image', draw_circle)\n",
    "\n",
    "while (1):\n",
    "    cv2.imshow('image', img)\n",
    "    if cv2.waitKey(0) & 0xFF == 27:\n",
    "        break\n",
    "\n",
    "cv2.destroyAllWindows()"
   ]
  },
  {
   "cell_type": "code",
   "execution_count": 6,
   "metadata": {},
   "outputs": [],
   "source": [
    "# Advanced Demo\n",
    "\n",
    "# 다음은 마우스를 누른 상태에서 이동시 원 또는 사각형을 그리는 Demo이다.\n",
    "# 이 예제는 향후 대상 추적이나 이미지 Segmentation시 응용될 수 있다.\n",
    "# (ex; 이미지에서 대상을 마우스로 선택하고 동일한 대상을 찾는 경우)"
   ]
  },
  {
   "cell_type": "code",
   "execution_count": 4,
   "metadata": {},
   "outputs": [],
   "source": [
    "import cv2\n",
    "import numpy as np\n",
    "\n",
    "drawing = False  # Mouse가 클릭된 상태 확인용\n",
    "mode = False  # True이면 사각형, False 면 원\n",
    "ix, iy = -1, -1\n",
    "\n",
    "# Mouse Callback 함수\n",
    "def draw_circle(event, x, y, flags, param):\n",
    "    global ix, iy, drawing, mode\n",
    "    \n",
    "    if event == cv2.EVENT_LBUTTONDOWN: # 마우스를 누른 상태\n",
    "        drawing = True\n",
    "        ix, iy = x, y\n",
    "    elif event == cv2.EVENT_MOUSEMOVE: # 마우스 이동\n",
    "        if drawing == True:     # 마우스를 누른 상태 일 경우\n",
    "            if mode == True:\n",
    "                cv2.rectangle(img, (ix, iy),(x, y), (255,0,0),-1)\n",
    "            else:\n",
    "                cv2.circle(img,(x,y),5,(0,255,0),-1)\n",
    "\n",
    "    elif event == cv2.EVENT_LBUTTONUP:\n",
    "        drawing == False;  # 마우스를 떼면 상태 변경\n",
    "        if mode == True:\n",
    "            cv2.rectangle(img,(ix,iy),(x,y),(255,0,0),-1)\n",
    "        else:\n",
    "            cv2.circle(img,(x,y),5,(0,255,0),-1)\n",
    "\n",
    "\n",
    "img = np.zeros((512,512,3), np.uint8)\n",
    "cv2.namedWindow('image')\n",
    "cv2.setMouseCallback('image', draw_circle)\n",
    "\n",
    "while True:\n",
    "    cv2.imshow('image',img)\n",
    "\n",
    "    k = cv2.waitKey(1) & 0xFF\n",
    "\n",
    "    if k == ord('m'):   # 사각형, 원 Mode 변경\n",
    "        mode = not mode\n",
    "    elif k == 27:  # esc를 누르면 종료\n",
    "        break\n",
    "\n",
    "cv2.destroyAllWindows()"
   ]
  },
  {
   "cell_type": "code",
   "execution_count": null,
   "metadata": {},
   "outputs": [],
   "source": []
  }
 ],
 "metadata": {
  "kernelspec": {
   "display_name": "Python 3.9.0 ('test_face')",
   "language": "python",
   "name": "python3"
  },
  "language_info": {
   "codemirror_mode": {
    "name": "ipython",
    "version": 3
   },
   "file_extension": ".py",
   "mimetype": "text/x-python",
   "name": "python",
   "nbconvert_exporter": "python",
   "pygments_lexer": "ipython3",
   "version": "3.9.0"
  },
  "orig_nbformat": 4,
  "vscode": {
   "interpreter": {
    "hash": "2ab66bd0d8a1700911031f6325c52faf68d70a959396b95b1055d91603f095e5"
   }
  }
 },
 "nbformat": 4,
 "nbformat_minor": 2
}
